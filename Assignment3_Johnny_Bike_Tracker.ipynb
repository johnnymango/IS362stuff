{
 "cells": [
  {
   "cell_type": "markdown",
   "metadata": {},
   "source": [
    "# Johnny's Bike Riding Tracker"
   ]
  },
  {
   "cell_type": "markdown",
   "metadata": {},
   "source": [
    "# First, we initialize the series and enter the data that I have for my daily bikes rides."
   ]
  },
  {
   "cell_type": "code",
   "execution_count": 6,
   "metadata": {
    "collapsed": false
   },
   "outputs": [],
   "source": [
    "# Import Numpy ad Pandas\n",
    "import numpy as np\n",
    "import pandas as pd\n",
    "\n",
    "# Settings\n",
    "pd.set_option('display.notebook_repr_html', False)\n",
    "pd.set_option('display.max_columns', 10)\n",
    "pd.set_option('display.max_rows', 10)\n",
    "\n",
    "my_ride_data = pd.Series({'2017-01-01' : 10,  '2017-01-02' : 25,  '2017-01-03' : 12,  '2017-01-04' : 23,  \n",
    "                          '2017-01-05' : 20,  '2017-01-06' : 16,  '2017-01-07' : 13,  '2017-01-08' : 18,  \n",
    "                          '2017-01-09' : 25,  '2017-01-30' : 25})"
   ]
  },
  {
   "cell_type": "markdown",
   "metadata": {},
   "source": [
    "# This is the series object of my ride data."
   ]
  },
  {
   "cell_type": "code",
   "execution_count": 7,
   "metadata": {
    "collapsed": false
   },
   "outputs": [
    {
     "data": {
      "text/plain": [
       "2017-01-01    10\n",
       "2017-01-02    25\n",
       "2017-01-03    12\n",
       "2017-01-04    23\n",
       "2017-01-05    20\n",
       "2017-01-06    16\n",
       "2017-01-07    13\n",
       "2017-01-08    18\n",
       "2017-01-09    25\n",
       "2017-01-30    25\n",
       "dtype: int64"
      ]
     },
     "execution_count": 7,
     "metadata": {},
     "output_type": "execute_result"
    }
   ],
   "source": [
    "my_ride_data"
   ]
  },
  {
   "cell_type": "markdown",
   "metadata": {},
   "source": [
    "# I calculate the the cumulative totals for the series using the .cumsum() methods and I save them to a new variable for formatting."
   ]
  },
  {
   "cell_type": "code",
   "execution_count": 8,
   "metadata": {
    "collapsed": false
   },
   "outputs": [],
   "source": [
    "totals = my_ride_data.cumsum()"
   ]
  },
  {
   "cell_type": "code",
   "execution_count": 9,
   "metadata": {
    "collapsed": false
   },
   "outputs": [
    {
     "data": {
      "text/plain": [
       "2017-01-01     10\n",
       "2017-01-02     35\n",
       "2017-01-03     47\n",
       "2017-01-04     70\n",
       "2017-01-05     90\n",
       "2017-01-06    106\n",
       "2017-01-07    119\n",
       "2017-01-08    137\n",
       "2017-01-09    162\n",
       "2017-01-30    187\n",
       "dtype: int64"
      ]
     },
     "execution_count": 9,
     "metadata": {},
     "output_type": "execute_result"
    }
   ],
   "source": [
    "totals"
   ]
  },
  {
   "cell_type": "markdown",
   "metadata": {},
   "source": [
    "# For a little interactivity, I input a date and get what I need to know."
   ]
  },
  {
   "cell_type": "code",
   "execution_count": 10,
   "metadata": {
    "collapsed": false
   },
   "outputs": [
    {
     "name": "stdout",
     "output_type": "stream",
     "text": [
      "What date do you want to lookup? 2017-01-08\n"
     ]
    },
    {
     "data": {
      "text/plain": [
       "'On 2017-01-08, I rode 18 miles.  The total cumulative for this date is 137 miles.'"
      ]
     },
     "execution_count": 10,
     "metadata": {},
     "output_type": "execute_result"
    }
   ],
   "source": [
    "LOOKUP = input('What date do you want to lookup? ')\n",
    "\n",
    "\"On {0}, I rode {1} miles.  The total cumulative for this date is {2} miles.\".format(LOOKUP, my_ride_data[LOOKUP], totals[LOOKUP])"
   ]
  }
 ],
 "metadata": {
  "kernelspec": {
   "display_name": "Python 3",
   "language": "python",
   "name": "python3"
  },
  "language_info": {
   "codemirror_mode": {
    "name": "ipython",
    "version": 3
   },
   "file_extension": ".py",
   "mimetype": "text/x-python",
   "name": "python",
   "nbconvert_exporter": "python",
   "pygments_lexer": "ipython3",
   "version": "3.6.0"
  }
 },
 "nbformat": 4,
 "nbformat_minor": 2
}
