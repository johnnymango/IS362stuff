{
 "cells": [
  {
   "cell_type": "markdown",
   "metadata": {},
   "source": [
    "# Getting the Mushroom Data\n",
    "\n",
    "First, I import the modules needed to grab the data and create the dataframes and their plots. I am using both a matplot and a seaborn plot and have imported both.  \n",
    "\n",
    "The pd.read_csv does a good job of creating the dataframe, selecting the columns I need and setting the column headers.\n"
   ]
  },
  {
   "cell_type": "code",
   "execution_count": 44,
   "metadata": {
    "collapsed": false
   },
   "outputs": [
    {
     "data": {
      "text/html": [
       "<div>\n",
       "<table border=\"1\" class=\"dataframe\">\n",
       "  <thead>\n",
       "    <tr style=\"text-align: right;\">\n",
       "      <th></th>\n",
       "      <th>mr_class</th>\n",
       "      <th>odor</th>\n",
       "      <th>population</th>\n",
       "    </tr>\n",
       "  </thead>\n",
       "  <tbody>\n",
       "    <tr>\n",
       "      <th>0</th>\n",
       "      <td>p</td>\n",
       "      <td>p</td>\n",
       "      <td>s</td>\n",
       "    </tr>\n",
       "    <tr>\n",
       "      <th>1</th>\n",
       "      <td>e</td>\n",
       "      <td>a</td>\n",
       "      <td>n</td>\n",
       "    </tr>\n",
       "    <tr>\n",
       "      <th>2</th>\n",
       "      <td>e</td>\n",
       "      <td>l</td>\n",
       "      <td>n</td>\n",
       "    </tr>\n",
       "    <tr>\n",
       "      <th>3</th>\n",
       "      <td>p</td>\n",
       "      <td>p</td>\n",
       "      <td>s</td>\n",
       "    </tr>\n",
       "    <tr>\n",
       "      <th>4</th>\n",
       "      <td>e</td>\n",
       "      <td>n</td>\n",
       "      <td>a</td>\n",
       "    </tr>\n",
       "  </tbody>\n",
       "</table>\n",
       "</div>"
      ],
      "text/plain": [
       "  mr_class odor population\n",
       "0        p    p          s\n",
       "1        e    a          n\n",
       "2        e    l          n\n",
       "3        p    p          s\n",
       "4        e    n          a"
      ]
     },
     "execution_count": 44,
     "metadata": {},
     "output_type": "execute_result"
    }
   ],
   "source": [
    "import pandas as pd\n",
    "import numpy as np\n",
    "import matplotlib as mpl\n",
    "import matplotlib.pyplot as plt\n",
    "import seaborn as sns\n",
    "%matplotlib inline\n",
    "\n",
    "url = \"https://archive.ics.uci.edu/ml/machine-learning-databases/mushroom/agaricus-lepiota.data\"\n",
    "\n",
    "mushrooms = pd.read_csv(url, header=None, usecols=(0,5,21))\n",
    "mushrooms.columns = ['mr_class', 'odor', 'population']\n",
    "mushrooms.head()"
   ]
  },
  {
   "cell_type": "markdown",
   "metadata": {},
   "source": [
    "## Mushroom Data Dictionary and Conversion Keys\n",
    "\n",
    "To help decipher the coding and assigning numeric values, I copied the data dictionary definitions an assigned numeric values to each code. The plots use the Class,  Odor and Population columns.\n",
    "\n",
    "    \n",
    "### Numeric Assignments\n",
    "\n",
    "### class\n",
    "- edible=e=0\n",
    "- poisonous=p=1\n",
    "    \n",
    "### odor\n",
    "- almond=a=0\n",
    "- anise=l=1\n",
    "- creosote=c=2\n",
    "- fishy=y=3\n",
    "- foul=f=4\n",
    "- musty=m=5\n",
    "- none=n=6\n",
    "- pungent=p=7\n",
    "- spicy=s=8\n",
    "\n",
    "### population\n",
    "- abundant=a=0\n",
    "- clustered=c=1\n",
    "- numerous=n=2\n",
    "- scattered=s=3\n",
    "- several=v=4\n",
    "- solitary=y=5"
   ]
  },
  {
   "cell_type": "markdown",
   "metadata": {},
   "source": [
    "## Replacing codes with Numeric Values\n",
    "\n",
    "This code updates the columns with the numeric values of each code for each column."
   ]
  },
  {
   "cell_type": "code",
   "execution_count": 45,
   "metadata": {
    "collapsed": false
   },
   "outputs": [
    {
     "data": {
      "text/html": [
       "<div>\n",
       "<table border=\"1\" class=\"dataframe\">\n",
       "  <thead>\n",
       "    <tr style=\"text-align: right;\">\n",
       "      <th></th>\n",
       "      <th>mr_class</th>\n",
       "      <th>odor</th>\n",
       "      <th>population</th>\n",
       "    </tr>\n",
       "  </thead>\n",
       "  <tbody>\n",
       "    <tr>\n",
       "      <th>0</th>\n",
       "      <td>1</td>\n",
       "      <td>7</td>\n",
       "      <td>3</td>\n",
       "    </tr>\n",
       "    <tr>\n",
       "      <th>1</th>\n",
       "      <td>0</td>\n",
       "      <td>0</td>\n",
       "      <td>2</td>\n",
       "    </tr>\n",
       "    <tr>\n",
       "      <th>2</th>\n",
       "      <td>0</td>\n",
       "      <td>1</td>\n",
       "      <td>2</td>\n",
       "    </tr>\n",
       "    <tr>\n",
       "      <th>3</th>\n",
       "      <td>1</td>\n",
       "      <td>7</td>\n",
       "      <td>3</td>\n",
       "    </tr>\n",
       "    <tr>\n",
       "      <th>4</th>\n",
       "      <td>0</td>\n",
       "      <td>6</td>\n",
       "      <td>0</td>\n",
       "    </tr>\n",
       "  </tbody>\n",
       "</table>\n",
       "</div>"
      ],
      "text/plain": [
       "   mr_class  odor  population\n",
       "0         1     7           3\n",
       "1         0     0           2\n",
       "2         0     1           2\n",
       "3         1     7           3\n",
       "4         0     6           0"
      ]
     },
     "execution_count": 45,
     "metadata": {},
     "output_type": "execute_result"
    }
   ],
   "source": [
    "#Updates the class column\n",
    "mushrooms['mr_class'].replace('e', 0, inplace=True)\n",
    "mushrooms['mr_class'].replace('p', 1, inplace=True)\n",
    "\n",
    "#Updates the odor column\n",
    "mushrooms['odor'].replace('a', 0, inplace=True)\n",
    "mushrooms['odor'].replace('l', 1, inplace=True)\n",
    "mushrooms['odor'].replace('c', 2, inplace=True)\n",
    "mushrooms['odor'].replace('y', 3, inplace=True)\n",
    "mushrooms['odor'].replace('f', 4, inplace=True)\n",
    "mushrooms['odor'].replace('m', 5, inplace=True)\n",
    "mushrooms['odor'].replace('n', 6, inplace=True)\n",
    "mushrooms['odor'].replace('p', 7, inplace=True)\n",
    "mushrooms['odor'].replace('s', 8, inplace=True)\n",
    "\n",
    "#Updates the population column\n",
    "mushrooms['population'].replace('a', 0, inplace=True)\n",
    "mushrooms['population'].replace('c', 1, inplace=True)\n",
    "mushrooms['population'].replace('n', 2, inplace=True)\n",
    "mushrooms['population'].replace('s', 3, inplace=True)\n",
    "mushrooms['population'].replace('v', 4, inplace=True)\n",
    "mushrooms['population'].replace('y', 5, inplace=True)\n",
    "\n",
    "mushrooms.head()\n"
   ]
  },
  {
   "cell_type": "markdown",
   "metadata": {},
   "source": [
    "# Histogram Plots\n",
    "\n",
    "\n",
    "We'll create the histogram plots to show the distribution of each feature (column)."
   ]
  },
  {
   "cell_type": "markdown",
   "metadata": {},
   "source": [
    "The first histogram shows the distribution between the edible and poisonous mushrooms.  As you can see, the distribution between the edible and poisonous mushrooms is roughly even with edible mushrooms only slightly more available in the data set than poisonous ones. "
   ]
  },
  {
   "cell_type": "code",
   "execution_count": 46,
   "metadata": {
    "collapsed": false
   },
   "outputs": [
    {
     "data": {
      "image/png": "[encoded data removed]",
      "text/plain": [
       "<matplotlib.figure.Figure at 0x2b93e26eda0>"
      ]
     },
     "metadata": {},
     "output_type": "display_data"
    }
   ],
   "source": [
    "mush_distribution = mushrooms['mr_class'].plot.hist(align='left')\n",
    "mush_distribution.set_xlabel('Class')\n",
    "plt.show()"
   ]
  },
  {
   "cell_type": "markdown",
   "metadata": {},
   "source": [
    "The second histrogram show the distribution of the odors feature.  Mushrooms with no odor (6) and a foul ordor (4) were the most common smells."
   ]
  },
  {
   "cell_type": "code",
   "execution_count": 47,
   "metadata": {
    "collapsed": false
   },
   "outputs": [
    {
     "data": {
      "image/png": "[encoded data removed]",
      "text/plain": [
       "<matplotlib.figure.Figure at 0x2b93e3627b8>"
      ]
     },
     "metadata": {},
     "output_type": "display_data"
    }
   ],
   "source": [
    "mush_distribution = mushrooms['odor'].plot.hist(align='left')\n",
    "mush_distribution.set_xlabel('Odor')\n",
    "plt.show()"
   ]
  },
  {
   "cell_type": "markdown",
   "metadata": {},
   "source": [
    "The third histogram shows the distribution of mushroom populations.  Most of the mushrooms were found in the 'several' groupings with solitary being the second most common."
   ]
  },
  {
   "cell_type": "code",
   "execution_count": 48,
   "metadata": {
    "collapsed": false
   },
   "outputs": [
    {
     "data": {
      "image/png": "[encoded data removed]",
      "text/plain": [
       "<matplotlib.figure.Figure at 0x2b93f7525f8>"
      ]
     },
     "metadata": {},
     "output_type": "display_data"
    }
   ],
   "source": [
    "mush_distribution = mushrooms['population'].plot.hist(align='left')\n",
    "mush_distribution.set_xlabel('Population')\n",
    "plt.show()"
   ]
  },
  {
   "cell_type": "code",
   "execution_count": null,
   "metadata": {
    "collapsed": true
   },
   "outputs": [],
   "source": []
  },
  {
   "cell_type": "markdown",
   "metadata": {},
   "source": [
    "## Seaborn Scatter Plot with Trend Line\n",
    "\n",
    "For the scatterplot, I found the seaborn plot to be a bit more revealing that the standard Matplt (if only because I couldn't get the subplot trendline code working properly).\n",
    "\n",
    "This scatterplot shows the relationship between odor, population and whether the mushroom is edible or poisonous."
   ]
  },
  {
   "cell_type": "code",
   "execution_count": 49,
   "metadata": {
    "collapsed": false
   },
   "outputs": [
    {
     "data": {
      "image/png": "[encoded data removed]",
      "text/plain": [
       "<matplotlib.figure.Figure at 0x2b93e361278>"
      ]
     },
     "metadata": {},
     "output_type": "display_data"
    }
   ],
   "source": [
    "sns.lmplot(x='population', y='odor', hue='mr_class', data=mushrooms);"
   ]
  },
  {
   "cell_type": "markdown",
   "metadata": {},
   "source": [
    "## Conclusion & Hypothesis\n",
    "\n",
    "Based on this scatterplot showing the relationship between this features, I predict that most edible mushroom will be solitary, musty mushrooms (since the trend line sits right below or above this value) with the most edible being spicy or pungent.  The most poisonous ones will be odorless and abundant.  "
   ]
  }
 ],
 "metadata": {
  "kernelspec": {
   "display_name": "Python 3",
   "language": "python",
   "name": "python3"
  },
  "language_info": {
   "codemirror_mode": {
    "name": "ipython",
    "version": 3
   },
   "file_extension": ".py",
   "mimetype": "text/x-python",
   "name": "python",
   "nbconvert_exporter": "python",
   "pygments_lexer": "ipython3",
   "version": "3.6.0"
  }
 },
 "nbformat": 4,
 "nbformat_minor": 2
}
