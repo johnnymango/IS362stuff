{
 "cells": [
  {
   "cell_type": "markdown",
   "metadata": {},
   "source": [
    "# Johnny's Week 5 Assignment"
   ]
  },
  {
   "cell_type": "code",
   "execution_count": 115,
   "metadata": {
    "collapsed": true
   },
   "outputs": [],
   "source": [
    "import pandas as pd"
   ]
  },
  {
   "cell_type": "markdown",
   "metadata": {},
   "source": [
    "## Importing the Data\n",
    "For this assignment, we'll import the airport and weather csv data directly from the web source."
   ]
  },
  {
   "cell_type": "code",
   "execution_count": 116,
   "metadata": {
    "collapsed": false
   },
   "outputs": [],
   "source": [
    "airports = pd.read_csv('https://raw.githubusercontent.com/hadley/nycflights13/master/data-raw/airports.csv')\n",
    "weather = pd.read_csv('https://raw.githubusercontent.com/hadley/nycflights13/master/data-raw/weather.csv')"
   ]
  },
  {
   "cell_type": "markdown",
   "metadata": {},
   "source": [
    "## The Most Northern US Airport Is...\n",
    "To find the most northern most airport, we sort the airport list in descending order by latitude. The list identifies the Dillant Hopkins Airport as the most northern.  However, independent verification via Google Maps shows this to be incorrect.  The latitude and longitude values for EEN row are flipped; the correct latitude for EEN is 42 degrees not 72 degrees.  The row for EEN is dropped since it appears to be incorrect (alternatively, the data can be corrected).\n",
    "\n",
    "Wiley Post Will Rogers is the most northern airport in the data set."
   ]
  },
  {
   "cell_type": "code",
   "execution_count": 117,
   "metadata": {
    "collapsed": false
   },
   "outputs": [
    {
     "data": {
      "text/html": [
       "<div>\n",
       "<table border=\"1\" class=\"dataframe\">\n",
       "  <thead>\n",
       "    <tr style=\"text-align: right;\">\n",
       "      <th></th>\n",
       "      <th>faa</th>\n",
       "      <th>name</th>\n",
       "      <th>lat</th>\n",
       "      <th>lon</th>\n",
       "      <th>alt</th>\n",
       "      <th>tz</th>\n",
       "      <th>dst</th>\n",
       "      <th>tzone</th>\n",
       "    </tr>\n",
       "  </thead>\n",
       "  <tbody>\n",
       "    <tr>\n",
       "      <th>417</th>\n",
       "      <td>EEN</td>\n",
       "      <td>Dillant Hopkins Airport</td>\n",
       "      <td>72.270833</td>\n",
       "      <td>42.898333</td>\n",
       "      <td>149</td>\n",
       "      <td>-5.0</td>\n",
       "      <td>A</td>\n",
       "      <td>\\N</td>\n",
       "    </tr>\n",
       "    <tr>\n",
       "      <th>230</th>\n",
       "      <td>BRW</td>\n",
       "      <td>Wiley Post Will Rogers Mem</td>\n",
       "      <td>71.285446</td>\n",
       "      <td>-156.766003</td>\n",
       "      <td>44</td>\n",
       "      <td>-9.0</td>\n",
       "      <td>A</td>\n",
       "      <td>America/Anchorage</td>\n",
       "    </tr>\n",
       "    <tr>\n",
       "      <th>110</th>\n",
       "      <td>AIN</td>\n",
       "      <td>Wainwright Airport</td>\n",
       "      <td>70.638056</td>\n",
       "      <td>-159.994722</td>\n",
       "      <td>41</td>\n",
       "      <td>-9.0</td>\n",
       "      <td>A</td>\n",
       "      <td>America/Anchorage</td>\n",
       "    </tr>\n",
       "    <tr>\n",
       "      <th>708</th>\n",
       "      <td>K03</td>\n",
       "      <td>Wainwright As</td>\n",
       "      <td>70.613378</td>\n",
       "      <td>-159.860350</td>\n",
       "      <td>35</td>\n",
       "      <td>-9.0</td>\n",
       "      <td>A</td>\n",
       "      <td>America/Anchorage</td>\n",
       "    </tr>\n",
       "    <tr>\n",
       "      <th>152</th>\n",
       "      <td>ATK</td>\n",
       "      <td>Atqasuk Edward Burnell Sr Memorial Airport</td>\n",
       "      <td>70.467300</td>\n",
       "      <td>-157.436000</td>\n",
       "      <td>96</td>\n",
       "      <td>-9.0</td>\n",
       "      <td>A</td>\n",
       "      <td>America/Anchorage</td>\n",
       "    </tr>\n",
       "  </tbody>\n",
       "</table>\n",
       "</div>"
      ],
      "text/plain": [
       "     faa                                        name        lat         lon  \\\n",
       "417  EEN                     Dillant Hopkins Airport  72.270833   42.898333   \n",
       "230  BRW                  Wiley Post Will Rogers Mem  71.285446 -156.766003   \n",
       "110  AIN                          Wainwright Airport  70.638056 -159.994722   \n",
       "708  K03                               Wainwright As  70.613378 -159.860350   \n",
       "152  ATK  Atqasuk Edward Burnell Sr Memorial Airport  70.467300 -157.436000   \n",
       "\n",
       "     alt   tz dst              tzone  \n",
       "417  149 -5.0   A                 \\N  \n",
       "230   44 -9.0   A  America/Anchorage  \n",
       "110   41 -9.0   A  America/Anchorage  \n",
       "708   35 -9.0   A  America/Anchorage  \n",
       "152   96 -9.0   A  America/Anchorage  "
      ]
     },
     "execution_count": 117,
     "metadata": {},
     "output_type": "execute_result"
    }
   ],
   "source": [
    "northern_most = airports.sort_values('lat', ascending=False).head()\n",
    "northern_most"
   ]
  },
  {
   "cell_type": "code",
   "execution_count": 118,
   "metadata": {
    "collapsed": false
   },
   "outputs": [
    {
     "data": {
      "text/html": [
       "<div>\n",
       "<table border=\"1\" class=\"dataframe\">\n",
       "  <thead>\n",
       "    <tr style=\"text-align: right;\">\n",
       "      <th></th>\n",
       "      <th>faa</th>\n",
       "      <th>name</th>\n",
       "      <th>lat</th>\n",
       "      <th>lon</th>\n",
       "      <th>alt</th>\n",
       "      <th>tz</th>\n",
       "      <th>dst</th>\n",
       "      <th>tzone</th>\n",
       "    </tr>\n",
       "  </thead>\n",
       "  <tbody>\n",
       "    <tr>\n",
       "      <th>230</th>\n",
       "      <td>BRW</td>\n",
       "      <td>Wiley Post Will Rogers Mem</td>\n",
       "      <td>71.285446</td>\n",
       "      <td>-156.766003</td>\n",
       "      <td>44</td>\n",
       "      <td>-9.0</td>\n",
       "      <td>A</td>\n",
       "      <td>America/Anchorage</td>\n",
       "    </tr>\n",
       "    <tr>\n",
       "      <th>110</th>\n",
       "      <td>AIN</td>\n",
       "      <td>Wainwright Airport</td>\n",
       "      <td>70.638056</td>\n",
       "      <td>-159.994722</td>\n",
       "      <td>41</td>\n",
       "      <td>-9.0</td>\n",
       "      <td>A</td>\n",
       "      <td>America/Anchorage</td>\n",
       "    </tr>\n",
       "    <tr>\n",
       "      <th>708</th>\n",
       "      <td>K03</td>\n",
       "      <td>Wainwright As</td>\n",
       "      <td>70.613378</td>\n",
       "      <td>-159.860350</td>\n",
       "      <td>35</td>\n",
       "      <td>-9.0</td>\n",
       "      <td>A</td>\n",
       "      <td>America/Anchorage</td>\n",
       "    </tr>\n",
       "    <tr>\n",
       "      <th>152</th>\n",
       "      <td>ATK</td>\n",
       "      <td>Atqasuk Edward Burnell Sr Memorial Airport</td>\n",
       "      <td>70.467300</td>\n",
       "      <td>-157.436000</td>\n",
       "      <td>96</td>\n",
       "      <td>-9.0</td>\n",
       "      <td>A</td>\n",
       "      <td>America/Anchorage</td>\n",
       "    </tr>\n",
       "  </tbody>\n",
       "</table>\n",
       "</div>"
      ],
      "text/plain": [
       "     faa                                        name        lat         lon  \\\n",
       "230  BRW                  Wiley Post Will Rogers Mem  71.285446 -156.766003   \n",
       "110  AIN                          Wainwright Airport  70.638056 -159.994722   \n",
       "708  K03                               Wainwright As  70.613378 -159.860350   \n",
       "152  ATK  Atqasuk Edward Burnell Sr Memorial Airport  70.467300 -157.436000   \n",
       "\n",
       "     alt   tz dst              tzone  \n",
       "230   44 -9.0   A  America/Anchorage  \n",
       "110   41 -9.0   A  America/Anchorage  \n",
       "708   35 -9.0   A  America/Anchorage  \n",
       "152   96 -9.0   A  America/Anchorage  "
      ]
     },
     "execution_count": 118,
     "metadata": {},
     "output_type": "execute_result"
    }
   ],
   "source": [
    "northern_most.drop([417])"
   ]
  },
  {
   "cell_type": "markdown",
   "metadata": {},
   "source": [
    "-------------------------------------------"
   ]
  },
  {
   "cell_type": "markdown",
   "metadata": {},
   "source": [
    "## The Most Eastern US Airport Is... \n",
    "To find the eastern-most airport in the US, we need to perform two steps.  First, we need to isolate the eastern most longitudinal values (where longitude is less than zero).  Then we sort the list in descending order to identify the eastern most longitudes.\n",
    "\n",
    "The eastern most airport in the US is Eastport Municipal Airport.  A Google map look up of the first 5 airports verifies the conclusion."
   ]
  },
  {
   "cell_type": "code",
   "execution_count": 119,
   "metadata": {
    "collapsed": false
   },
   "outputs": [
    {
     "data": {
      "text/html": [
       "<div>\n",
       "<table border=\"1\" class=\"dataframe\">\n",
       "  <thead>\n",
       "    <tr style=\"text-align: right;\">\n",
       "      <th></th>\n",
       "      <th>faa</th>\n",
       "      <th>name</th>\n",
       "      <th>lat</th>\n",
       "      <th>lon</th>\n",
       "      <th>alt</th>\n",
       "      <th>tz</th>\n",
       "      <th>dst</th>\n",
       "      <th>tzone</th>\n",
       "    </tr>\n",
       "  </thead>\n",
       "  <tbody>\n",
       "    <tr>\n",
       "      <th>444</th>\n",
       "      <td>EPM</td>\n",
       "      <td>Eastport Municipal Airport</td>\n",
       "      <td>44.910111</td>\n",
       "      <td>-67.012694</td>\n",
       "      <td>45</td>\n",
       "      <td>-5.0</td>\n",
       "      <td>A</td>\n",
       "      <td>America/New_York</td>\n",
       "    </tr>\n",
       "    <tr>\n",
       "      <th>624</th>\n",
       "      <td>HUL</td>\n",
       "      <td>Houlton Intl</td>\n",
       "      <td>46.123083</td>\n",
       "      <td>-67.792056</td>\n",
       "      <td>489</td>\n",
       "      <td>-5.0</td>\n",
       "      <td>A</td>\n",
       "      <td>America/New_York</td>\n",
       "    </tr>\n",
       "    <tr>\n",
       "      <th>259</th>\n",
       "      <td>CAR</td>\n",
       "      <td>Caribou Muni</td>\n",
       "      <td>46.871500</td>\n",
       "      <td>-68.017917</td>\n",
       "      <td>626</td>\n",
       "      <td>-5.0</td>\n",
       "      <td>A</td>\n",
       "      <td>America/New_York</td>\n",
       "    </tr>\n",
       "    <tr>\n",
       "      <th>1101</th>\n",
       "      <td>PQI</td>\n",
       "      <td>Northern Maine Rgnl At Presque Isle</td>\n",
       "      <td>46.688958</td>\n",
       "      <td>-68.044797</td>\n",
       "      <td>534</td>\n",
       "      <td>-5.0</td>\n",
       "      <td>A</td>\n",
       "      <td>America/New_York</td>\n",
       "    </tr>\n",
       "    <tr>\n",
       "      <th>1398</th>\n",
       "      <td>WFK</td>\n",
       "      <td>Northern Aroostook Regional Airport</td>\n",
       "      <td>47.285556</td>\n",
       "      <td>-68.312778</td>\n",
       "      <td>988</td>\n",
       "      <td>-5.0</td>\n",
       "      <td>A</td>\n",
       "      <td>America/New_York</td>\n",
       "    </tr>\n",
       "  </tbody>\n",
       "</table>\n",
       "</div>"
      ],
      "text/plain": [
       "      faa                                 name        lat        lon  alt  \\\n",
       "444   EPM           Eastport Municipal Airport  44.910111 -67.012694   45   \n",
       "624   HUL                         Houlton Intl  46.123083 -67.792056  489   \n",
       "259   CAR                         Caribou Muni  46.871500 -68.017917  626   \n",
       "1101  PQI  Northern Maine Rgnl At Presque Isle  46.688958 -68.044797  534   \n",
       "1398  WFK  Northern Aroostook Regional Airport  47.285556 -68.312778  988   \n",
       "\n",
       "       tz dst             tzone  \n",
       "444  -5.0   A  America/New_York  \n",
       "624  -5.0   A  America/New_York  \n",
       "259  -5.0   A  America/New_York  \n",
       "1101 -5.0   A  America/New_York  \n",
       "1398 -5.0   A  America/New_York  "
      ]
     },
     "execution_count": 119,
     "metadata": {},
     "output_type": "execute_result"
    }
   ],
   "source": [
    "airports[airports.lon <= 0].sort_values('lon', ascending=False).head()"
   ]
  },
  {
   "cell_type": "markdown",
   "metadata": {},
   "source": [
    "-----------------------------"
   ]
  },
  {
   "cell_type": "markdown",
   "metadata": {},
   "source": [
    "## The Windiest Airport On Feb 12 2013 Is...\n",
    "To answer this question, we'll look at aggragate values for wind speed.  First, we select the data set for 2/12/2013 and sort by wind speed to get the top wind speeds."
   ]
  },
  {
   "cell_type": "code",
   "execution_count": 120,
   "metadata": {
    "collapsed": false
   },
   "outputs": [
    {
     "data": {
      "text/html": [
       "<div>\n",
       "<table border=\"1\" class=\"dataframe\">\n",
       "  <thead>\n",
       "    <tr style=\"text-align: right;\">\n",
       "      <th></th>\n",
       "      <th>origin</th>\n",
       "      <th>year</th>\n",
       "      <th>month</th>\n",
       "      <th>day</th>\n",
       "      <th>hour</th>\n",
       "      <th>temp</th>\n",
       "      <th>dewp</th>\n",
       "      <th>humid</th>\n",
       "      <th>wind_dir</th>\n",
       "      <th>wind_speed</th>\n",
       "      <th>wind_gust</th>\n",
       "      <th>precip</th>\n",
       "      <th>pressure</th>\n",
       "      <th>visib</th>\n",
       "      <th>time_hour</th>\n",
       "    </tr>\n",
       "  </thead>\n",
       "  <tbody>\n",
       "    <tr>\n",
       "      <th>1015</th>\n",
       "      <td>EWR</td>\n",
       "      <td>2013</td>\n",
       "      <td>2</td>\n",
       "      <td>12</td>\n",
       "      <td>8</td>\n",
       "      <td>39.02</td>\n",
       "      <td>26.96</td>\n",
       "      <td>61.63</td>\n",
       "      <td>260.0</td>\n",
       "      <td>1048.36058</td>\n",
       "      <td>1206.432388</td>\n",
       "      <td>0.0</td>\n",
       "      <td>1008.3</td>\n",
       "      <td>10.0</td>\n",
       "      <td>2013-02-12T08:00:00Z</td>\n",
       "    </tr>\n",
       "    <tr>\n",
       "      <th>18433</th>\n",
       "      <td>LGA</td>\n",
       "      <td>2013</td>\n",
       "      <td>2</td>\n",
       "      <td>12</td>\n",
       "      <td>7</td>\n",
       "      <td>42.98</td>\n",
       "      <td>26.06</td>\n",
       "      <td>50.94</td>\n",
       "      <td>290.0</td>\n",
       "      <td>23.01560</td>\n",
       "      <td>26.485892</td>\n",
       "      <td>0.0</td>\n",
       "      <td>1007.1</td>\n",
       "      <td>10.0</td>\n",
       "      <td>2013-02-12T07:00:00Z</td>\n",
       "    </tr>\n",
       "    <tr>\n",
       "      <th>1024</th>\n",
       "      <td>EWR</td>\n",
       "      <td>2013</td>\n",
       "      <td>2</td>\n",
       "      <td>12</td>\n",
       "      <td>17</td>\n",
       "      <td>44.06</td>\n",
       "      <td>26.06</td>\n",
       "      <td>48.87</td>\n",
       "      <td>270.0</td>\n",
       "      <td>21.86482</td>\n",
       "      <td>25.161598</td>\n",
       "      <td>0.0</td>\n",
       "      <td>1012.5</td>\n",
       "      <td>10.0</td>\n",
       "      <td>2013-02-12T17:00:00Z</td>\n",
       "    </tr>\n",
       "    <tr>\n",
       "      <th>18444</th>\n",
       "      <td>LGA</td>\n",
       "      <td>2013</td>\n",
       "      <td>2</td>\n",
       "      <td>12</td>\n",
       "      <td>18</td>\n",
       "      <td>44.06</td>\n",
       "      <td>23.00</td>\n",
       "      <td>43.02</td>\n",
       "      <td>300.0</td>\n",
       "      <td>21.86482</td>\n",
       "      <td>25.161598</td>\n",
       "      <td>0.0</td>\n",
       "      <td>1011.7</td>\n",
       "      <td>10.0</td>\n",
       "      <td>2013-02-12T18:00:00Z</td>\n",
       "    </tr>\n",
       "    <tr>\n",
       "      <th>9728</th>\n",
       "      <td>JFK</td>\n",
       "      <td>2013</td>\n",
       "      <td>2</td>\n",
       "      <td>12</td>\n",
       "      <td>13</td>\n",
       "      <td>42.08</td>\n",
       "      <td>24.08</td>\n",
       "      <td>48.56</td>\n",
       "      <td>280.0</td>\n",
       "      <td>20.71404</td>\n",
       "      <td>23.837303</td>\n",
       "      <td>0.0</td>\n",
       "      <td>1011.6</td>\n",
       "      <td>10.0</td>\n",
       "      <td>2013-02-12T13:00:00Z</td>\n",
       "    </tr>\n",
       "  </tbody>\n",
       "</table>\n",
       "</div>"
      ],
      "text/plain": [
       "      origin  year  month  day  hour   temp   dewp  humid  wind_dir  \\\n",
       "1015     EWR  2013      2   12     8  39.02  26.96  61.63     260.0   \n",
       "18433    LGA  2013      2   12     7  42.98  26.06  50.94     290.0   \n",
       "1024     EWR  2013      2   12    17  44.06  26.06  48.87     270.0   \n",
       "18444    LGA  2013      2   12    18  44.06  23.00  43.02     300.0   \n",
       "9728     JFK  2013      2   12    13  42.08  24.08  48.56     280.0   \n",
       "\n",
       "       wind_speed    wind_gust  precip  pressure  visib             time_hour  \n",
       "1015   1048.36058  1206.432388     0.0    1008.3   10.0  2013-02-12T08:00:00Z  \n",
       "18433    23.01560    26.485892     0.0    1007.1   10.0  2013-02-12T07:00:00Z  \n",
       "1024     21.86482    25.161598     0.0    1012.5   10.0  2013-02-12T17:00:00Z  \n",
       "18444    21.86482    25.161598     0.0    1011.7   10.0  2013-02-12T18:00:00Z  \n",
       "9728     20.71404    23.837303     0.0    1011.6   10.0  2013-02-12T13:00:00Z  "
      ]
     },
     "execution_count": 120,
     "metadata": {},
     "output_type": "execute_result"
    }
   ],
   "source": [
    "top = weather[(weather.year == 2013) & (weather.month == 2) & (weather.day == 12)].sort_values('wind_speed', ascending=False)\n",
    "top.head()"
   ]
  },
  {
   "cell_type": "markdown",
   "metadata": {},
   "source": [
    "When you analyze the aggregate summary data for the New York airports, the top row skews the summary information for the 2/13/2013 dataset."
   ]
  },
  {
   "cell_type": "code",
   "execution_count": 121,
   "metadata": {
    "collapsed": false
   },
   "outputs": [
    {
     "data": {
      "text/html": [
       "<div>\n",
       "<table border=\"1\" class=\"dataframe\">\n",
       "  <thead>\n",
       "    <tr style=\"text-align: right;\">\n",
       "      <th></th>\n",
       "      <th>max</th>\n",
       "      <th>mean</th>\n",
       "      <th>median</th>\n",
       "    </tr>\n",
       "    <tr>\n",
       "      <th>origin</th>\n",
       "      <th></th>\n",
       "      <th></th>\n",
       "      <th></th>\n",
       "    </tr>\n",
       "  </thead>\n",
       "  <tbody>\n",
       "    <tr>\n",
       "      <th>EWR</th>\n",
       "      <td>1048.36058</td>\n",
       "      <td>55.668983</td>\n",
       "      <td>13.80936</td>\n",
       "    </tr>\n",
       "    <tr>\n",
       "      <th>JFK</th>\n",
       "      <td>20.71404</td>\n",
       "      <td>13.090122</td>\n",
       "      <td>14.96014</td>\n",
       "    </tr>\n",
       "    <tr>\n",
       "      <th>LGA</th>\n",
       "      <td>23.01560</td>\n",
       "      <td>13.857309</td>\n",
       "      <td>14.38475</td>\n",
       "    </tr>\n",
       "  </tbody>\n",
       "</table>\n",
       "</div>"
      ],
      "text/plain": [
       "               max       mean    median\n",
       "origin                                 \n",
       "EWR     1048.36058  55.668983  13.80936\n",
       "JFK       20.71404  13.090122  14.96014\n",
       "LGA       23.01560  13.857309  14.38475"
      ]
     },
     "execution_count": 121,
     "metadata": {},
     "output_type": "execute_result"
    }
   ],
   "source": [
    "top.groupby('origin').wind_speed.agg(['max', 'mean', 'median'])"
   ]
  },
  {
   "cell_type": "markdown",
   "metadata": {},
   "source": [
    "To resolve this issue, we drop the row containing the bad wind speed value.  The resulting summary values are a better representation of the wind speeds at the airports on this date."
   ]
  },
  {
   "cell_type": "code",
   "execution_count": 122,
   "metadata": {
    "collapsed": false
   },
   "outputs": [],
   "source": [
    "revised = top.drop([1015])"
   ]
  },
  {
   "cell_type": "code",
   "execution_count": 123,
   "metadata": {
    "collapsed": false
   },
   "outputs": [
    {
     "data": {
      "text/html": [
       "<div>\n",
       "<table border=\"1\" class=\"dataframe\">\n",
       "  <thead>\n",
       "    <tr style=\"text-align: right;\">\n",
       "      <th></th>\n",
       "      <th>max</th>\n",
       "      <th>mean</th>\n",
       "      <th>median</th>\n",
       "    </tr>\n",
       "    <tr>\n",
       "      <th>origin</th>\n",
       "      <th></th>\n",
       "      <th></th>\n",
       "      <th></th>\n",
       "    </tr>\n",
       "  </thead>\n",
       "  <tbody>\n",
       "    <tr>\n",
       "      <th>EWR</th>\n",
       "      <td>21.86482</td>\n",
       "      <td>12.508478</td>\n",
       "      <td>13.80936</td>\n",
       "    </tr>\n",
       "    <tr>\n",
       "      <th>JFK</th>\n",
       "      <td>20.71404</td>\n",
       "      <td>13.090122</td>\n",
       "      <td>14.96014</td>\n",
       "    </tr>\n",
       "    <tr>\n",
       "      <th>LGA</th>\n",
       "      <td>23.01560</td>\n",
       "      <td>13.857309</td>\n",
       "      <td>14.38475</td>\n",
       "    </tr>\n",
       "  </tbody>\n",
       "</table>\n",
       "</div>"
      ],
      "text/plain": [
       "             max       mean    median\n",
       "origin                               \n",
       "EWR     21.86482  12.508478  13.80936\n",
       "JFK     20.71404  13.090122  14.96014\n",
       "LGA     23.01560  13.857309  14.38475"
      ]
     },
     "execution_count": 123,
     "metadata": {},
     "output_type": "execute_result"
    }
   ],
   "source": [
    "revised.groupby('origin').wind_speed.agg(['max', 'mean', 'median'])"
   ]
  },
  {
   "cell_type": "markdown",
   "metadata": {},
   "source": [
    "On 2/12/2013, LGA had the higest average wind speeds while JFK had the highest median wind speeds."
   ]
  }
 ],
 "metadata": {
  "kernelspec": {
   "display_name": "Python 3",
   "language": "python",
   "name": "python3"
  },
  "language_info": {
   "codemirror_mode": {
    "name": "ipython",
    "version": 3
   },
   "file_extension": ".py",
   "mimetype": "text/x-python",
   "name": "python",
   "nbconvert_exporter": "python",
   "pygments_lexer": "ipython3",
   "version": "3.6.0"
  }
 },
 "nbformat": 4,
 "nbformat_minor": 2
}
