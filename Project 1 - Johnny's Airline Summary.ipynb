{
 "cells": [
  {
   "cell_type": "markdown",
   "metadata": {},
   "source": [
    "# Johnny's Airline Summary\n",
    "#### The summary begins with a formatted string that was derived from dataframe summary calculations for Alaska and Amwest Airlines."
   ]
  },
  {
   "cell_type": "markdown",
   "metadata": {},
   "source": [
    "## Summary for Alaska Airlines"
   ]
  },
  {
   "cell_type": "code",
   "execution_count": 200,
   "metadata": {
    "collapsed": false,
    "scrolled": true
   },
   "outputs": [
    {
     "data": {
      "text/plain": [
       "'For Alaska Airlines, there is a total of 3775 flights.  3274 of these flights were On Time. The average number of On Time flights is 654.8.  The median number of On Time flights is 497.0. Seattle was the destination with the most On Time flights with 1841 while San Diego had the fewest On Time flights with 212. 501 flights were delayed.  The average number of delayed flights was 100.2. The median number of delayed flights is 62.0. The most delays occured in Seattle with 305 while the least amount of delays occurred in Phoenix with 12.'"
      ]
     },
     "execution_count": 200,
     "metadata": {},
     "output_type": "execute_result"
    }
   ],
   "source": [
    "\"For Alaska Airlines, there is a total of {0} flights.  {1} of these flights were On Time. The average \\\n",
    "number of On Time flights is {2}.  The median number of On Time flights is {3}. {4} was the destination with \\\n",
    "the most On Time flights with {5} while {6} had the fewest On Time flights with {7}. {8} flights were delayed.  The \\\n",
    "average number of delayed flights was {9}. The median number of delayed flights is {10}. The most delays occured in {11} \\\n",
    "with {12} while the least amount of delays occurred in {13} with {14}.\" .format(aaALL_sum, aaOT_sum, aaOT_mean[0], \n",
    "                                                                               aaOT_med[0], maxOT_dest, aaOT_max[3], minOT_dest, aaOT_min[3], aaDL_sum, \n",
    "                                                                               aaDL_mean[0], aaDL_med[0], maxDL_dest, aaDL_max[3], minDL_dest, \n",
    "                                                                               aaDL_min[3])\n",
    "\n",
    "\n"
   ]
  },
  {
   "cell_type": "markdown",
   "metadata": {},
   "source": [
    "## Summary for Amwest Airlines"
   ]
  },
  {
   "cell_type": "code",
   "execution_count": 201,
   "metadata": {
    "collapsed": false
   },
   "outputs": [
    {
     "data": {
      "text/plain": [
       "'For Amwest Airlines, there is a total of 7225 flights.  6438 of these flights were On Time. The average number of On Time flights is 1287.6.  The median number of On Time flights is 383.0. Phoenix was the destination with the most On Time flights with 4840 while Seattle had the fewest On Time flights with 201. 787 flights were delayed.  The average number of delayed flights was 157.4. The median number of delayed flights is 117.0. The most delays occured in Phoenix with 415 while the least amount of delays occurred in Seattle with 61.'"
      ]
     },
     "execution_count": 201,
     "metadata": {},
     "output_type": "execute_result"
    }
   ],
   "source": [
    "\"For Amwest Airlines, there is a total of {0} flights.  {1} of these flights were On Time. The average \\\n",
    "number of On Time flights is {2}.  The median number of On Time flights is {3}. {4} was the destination with \\\n",
    "the most On Time flights with {5} while {6} had the fewest On Time flights with {7}. {8} flights were delayed.  The \\\n",
    "average number of delayed flights was {9}. The median number of delayed flights is {10}. The most delays occured in {11} \\\n",
    "with {12} while the least amount of delays occurred in {13} with {14}.\" .format(amwestALL_sum, amwestOT_sum, amwestOT_mean[0], \n",
    "                                                                               amwestOT_med[0], amwestmaxOT_dest, amwestOT_max[3], amwestminOT_dest, \n",
    "                                                                               amwestOT_min[3], amwestDL_sum, amwestDL_mean[0], amwestDL_med[0], amwestmaxDL_dest, \n",
    "                                                                               amwestDL_max[3], amwestminDL_dest, amwestDL_min[3])\n",
    "\n",
    "\n"
   ]
  },
  {
   "cell_type": "markdown",
   "metadata": {},
   "source": [
    "------------------------"
   ]
  },
  {
   "cell_type": "markdown",
   "metadata": {},
   "source": [
    "## Import the CSV\n",
    "#### This section imports the csv file containing the airline data."
   ]
  },
  {
   "cell_type": "code",
   "execution_count": 202,
   "metadata": {
    "collapsed": false
   },
   "outputs": [
    {
     "data": {
      "text/plain": [
       "   Airline    Destination   Status  QTY_flights\n",
       "0   Alaska    Los Angeles  On Time          497\n",
       "1   Alaska    Los Angeles  Delayed           62\n",
       "2   Alaska        Phoenix  On Time          221\n",
       "3   Alaska        Phoenix  Delayed           12\n",
       "4   Alaska      San Diego  On Time          212\n",
       "..     ...            ...      ...          ...\n",
       "15  Amwest      San Diego  Delayed           65\n",
       "16  Amwest  San Francisco  On Time          320\n",
       "17  Amwest  San Francisco  Delayed          129\n",
       "18  Amwest        Seattle  On Time          201\n",
       "19  Amwest        Seattle  Delayed           61\n",
       "\n",
       "[20 rows x 4 columns]"
      ]
     },
     "execution_count": 202,
     "metadata": {},
     "output_type": "execute_result"
    }
   ],
   "source": [
    "# Import Numpy ad Pandas\n",
    "import numpy as np\n",
    "import pandas as pd\n",
    "\n",
    "# Settings\n",
    "pd.set_option('display.notebook_repr_html', False)\n",
    "pd.set_option('display.max_columns', 10)\n",
    "pd.set_option('display.max_rows', 10)\n",
    "\n",
    "df1 = pd.read_csv('c:/data/airlinedata.csv')\n",
    "df1\n"
   ]
  },
  {
   "cell_type": "markdown",
   "metadata": {},
   "source": [
    "## Alaska Airlines Flights: Total Number of Flights\n",
    "#### Here I collect the total number of Alaska Flights."
   ]
  },
  {
   "cell_type": "code",
   "execution_count": 203,
   "metadata": {
    "collapsed": false
   },
   "outputs": [
    {
     "data": {
      "text/plain": [
       "  Airline    Destination   Status  QTY_flights\n",
       "0  Alaska    Los Angeles  On Time          497\n",
       "1  Alaska    Los Angeles  Delayed           62\n",
       "2  Alaska        Phoenix  On Time          221\n",
       "3  Alaska        Phoenix  Delayed           12\n",
       "4  Alaska      San Diego  On Time          212\n",
       "5  Alaska      San Diego  Delayed           20\n",
       "6  Alaska  San Francisco  On Time          503\n",
       "7  Alaska  San Francisco  Delayed          102\n",
       "8  Alaska        Seattle  On Time         1841\n",
       "9  Alaska        Seattle  Delayed          305"
      ]
     },
     "execution_count": 203,
     "metadata": {},
     "output_type": "execute_result"
    }
   ],
   "source": [
    "alaskaALL = df1[(df1.Airline == 'Alaska')]\n",
    "alaskaALL"
   ]
  },
  {
   "cell_type": "code",
   "execution_count": 204,
   "metadata": {
    "collapsed": false
   },
   "outputs": [
    {
     "data": {
      "text/plain": [
       "3775"
      ]
     },
     "execution_count": 204,
     "metadata": {},
     "output_type": "execute_result"
    }
   ],
   "source": [
    "aaALL_sum = alaskaALL['QTY_flights'].sum()\n",
    "aaALL_sum"
   ]
  },
  {
   "cell_type": "markdown",
   "metadata": {},
   "source": [
    "## Alaska Airlines Flights: Mean, Median, Min & Max for ON TIME Flights\n",
    "#### Here I select On Time flights and collect summary values."
   ]
  },
  {
   "cell_type": "code",
   "execution_count": 205,
   "metadata": {
    "collapsed": false
   },
   "outputs": [
    {
     "data": {
      "text/plain": [
       "  Airline    Destination   Status  QTY_flights\n",
       "0  Alaska    Los Angeles  On Time          497\n",
       "2  Alaska        Phoenix  On Time          221\n",
       "4  Alaska      San Diego  On Time          212\n",
       "6  Alaska  San Francisco  On Time          503\n",
       "8  Alaska        Seattle  On Time         1841"
      ]
     },
     "execution_count": 205,
     "metadata": {},
     "output_type": "execute_result"
    }
   ],
   "source": [
    "alaskaOT = df1[(df1.Status == 'On Time') & (df.Airline == 'Alaska')]\n",
    "alaskaOT"
   ]
  },
  {
   "cell_type": "code",
   "execution_count": 206,
   "metadata": {
    "collapsed": false
   },
   "outputs": [],
   "source": [
    "aaOT_sum = alaskaOT['QTY_flights'].sum()\n",
    "aaOT_mean = alaskaOT.mean()\n",
    "aaOT_med = alaskaOT.median()\n",
    "aaOT_min = alaskaOT.min()\n",
    "minOT_dest = alaskaOT.at[4, 'Destination']\n",
    "aaOT_max = alaskaOT.max()\n",
    "maxOT_dest = alaskaOT.at[8, 'Destination']"
   ]
  },
  {
   "cell_type": "markdown",
   "metadata": {},
   "source": [
    "## Alaska Airlines Flights: Mean, Median, Min & Max for DELAYED Flights\n",
    "#### Here I select Delayed flights and collect summary values."
   ]
  },
  {
   "cell_type": "code",
   "execution_count": 207,
   "metadata": {
    "collapsed": false
   },
   "outputs": [
    {
     "data": {
      "text/plain": [
       "  Airline    Destination   Status  QTY_flights\n",
       "1  Alaska    Los Angeles  Delayed           62\n",
       "3  Alaska        Phoenix  Delayed           12\n",
       "5  Alaska      San Diego  Delayed           20\n",
       "7  Alaska  San Francisco  Delayed          102\n",
       "9  Alaska        Seattle  Delayed          305"
      ]
     },
     "execution_count": 207,
     "metadata": {},
     "output_type": "execute_result"
    }
   ],
   "source": [
    "alaskaDL = df1[(df.Status == 'Delayed') & (df.Airline == 'Alaska')]\n",
    "alaskaDL"
   ]
  },
  {
   "cell_type": "code",
   "execution_count": 208,
   "metadata": {
    "collapsed": false
   },
   "outputs": [],
   "source": [
    "aaDL_sum = alaskaDL['QTY_flights'].sum()\n",
    "aaDL_mean = alaskaDL.mean()\n",
    "aaDL_med = alaskaDL.median()\n",
    "aaDL_min = alaskaDL.min()\n",
    "minDL_dest = alaskaDL.at[3, 'Destination']\n",
    "aaDL_max = alaskaDL.max()\n",
    "maxDL_dest = alaskaDL.at[9, 'Destination']\n"
   ]
  },
  {
   "cell_type": "markdown",
   "metadata": {},
   "source": [
    "-------------------------"
   ]
  },
  {
   "cell_type": "markdown",
   "metadata": {},
   "source": [
    "## Amwest Airlines Flights: Total Number of Flights\n",
    "#### Here I collect the total number of Amwest Flights."
   ]
  },
  {
   "cell_type": "code",
   "execution_count": 209,
   "metadata": {
    "collapsed": false
   },
   "outputs": [
    {
     "data": {
      "text/plain": [
       "   Airline    Destination   Status  QTY_flights\n",
       "10  Amwest    Los Angeles  On Time          694\n",
       "11  Amwest    Los Angeles  Delayed          117\n",
       "12  Amwest        Phoenix  On Time         4840\n",
       "13  Amwest        Phoenix  Delayed          415\n",
       "14  Amwest      San Diego  On Time          383\n",
       "15  Amwest      San Diego  Delayed           65\n",
       "16  Amwest  San Francisco  On Time          320\n",
       "17  Amwest  San Francisco  Delayed          129\n",
       "18  Amwest        Seattle  On Time          201\n",
       "19  Amwest        Seattle  Delayed           61"
      ]
     },
     "execution_count": 209,
     "metadata": {},
     "output_type": "execute_result"
    }
   ],
   "source": [
    "amwestALL = df1[(df1.Airline == 'Amwest')]\n",
    "amwestALL"
   ]
  },
  {
   "cell_type": "code",
   "execution_count": 210,
   "metadata": {
    "collapsed": false
   },
   "outputs": [
    {
     "data": {
      "text/plain": [
       "7225"
      ]
     },
     "execution_count": 210,
     "metadata": {},
     "output_type": "execute_result"
    }
   ],
   "source": [
    "amwestALL_sum = amwestALL['QTY_flights'].sum()\n",
    "amwestALL_sum"
   ]
  },
  {
   "cell_type": "markdown",
   "metadata": {},
   "source": [
    "## Amwest Airlines Flights: Mean, Median, Min & Max for ON TIME Flights\n",
    "#### Here I select On Time flights and collect summary values."
   ]
  },
  {
   "cell_type": "code",
   "execution_count": 211,
   "metadata": {
    "collapsed": false
   },
   "outputs": [
    {
     "data": {
      "text/plain": [
       "   Airline    Destination   Status  QTY_flights\n",
       "10  Amwest    Los Angeles  On Time          694\n",
       "12  Amwest        Phoenix  On Time         4840\n",
       "14  Amwest      San Diego  On Time          383\n",
       "16  Amwest  San Francisco  On Time          320\n",
       "18  Amwest        Seattle  On Time          201"
      ]
     },
     "execution_count": 211,
     "metadata": {},
     "output_type": "execute_result"
    }
   ],
   "source": [
    "amwestOT = df1[(df1.Status == 'On Time') & (df.Airline == 'Amwest')]\n",
    "amwestOT"
   ]
  },
  {
   "cell_type": "code",
   "execution_count": 212,
   "metadata": {
    "collapsed": false
   },
   "outputs": [],
   "source": [
    "amwestOT_sum = amwestOT['QTY_flights'].sum()\n",
    "amwestOT_mean = amwestOT.mean()\n",
    "amwestOT_med = amwestOT.median()\n",
    "amwestOT_min = amwestOT.min()\n",
    "amwestminOT_dest = amwestOT.at[18, 'Destination']\n",
    "amwestOT_max = amwestOT.max()\n",
    "amwestmaxOT_dest = amwestOT.at[12, 'Destination']"
   ]
  },
  {
   "cell_type": "markdown",
   "metadata": {},
   "source": [
    "## Amwest Airlines Flights: Mean, Median, Min & Max for DELAYED Flights\n",
    "#### Here I select Delayed flights and collect summary values."
   ]
  },
  {
   "cell_type": "code",
   "execution_count": 213,
   "metadata": {
    "collapsed": false
   },
   "outputs": [
    {
     "data": {
      "text/plain": [
       "   Airline    Destination   Status  QTY_flights\n",
       "11  Amwest    Los Angeles  Delayed          117\n",
       "13  Amwest        Phoenix  Delayed          415\n",
       "15  Amwest      San Diego  Delayed           65\n",
       "17  Amwest  San Francisco  Delayed          129\n",
       "19  Amwest        Seattle  Delayed           61"
      ]
     },
     "execution_count": 213,
     "metadata": {},
     "output_type": "execute_result"
    }
   ],
   "source": [
    "amwestDL = df1[(df.Status == 'Delayed') & (df.Airline == 'Amwest')]\n",
    "amwestDL"
   ]
  },
  {
   "cell_type": "code",
   "execution_count": 214,
   "metadata": {
    "collapsed": false
   },
   "outputs": [],
   "source": [
    "amwestDL_sum = amwestDL['QTY_flights'].sum()\n",
    "amwestDL_mean = amwestDL.mean()\n",
    "amwestDL_med = amwestDL.median()\n",
    "amwestDL_min = amwestDL.min()\n",
    "amwestminDL_dest = amwestDL.at[19, 'Destination']\n",
    "amwestDL_max = amwestDL.max()\n",
    "amwestmaxDL_dest = amwestDL.at[13, 'Destination']\n"
   ]
  }
 ],
 "metadata": {
  "kernelspec": {
   "display_name": "Python 3",
   "language": "python",
   "name": "python3"
  },
  "language_info": {
   "codemirror_mode": {
    "name": "ipython",
    "version": 3
   },
   "file_extension": ".py",
   "mimetype": "text/x-python",
   "name": "python",
   "nbconvert_exporter": "python",
   "pygments_lexer": "ipython3",
   "version": "3.6.0"
  }
 },
 "nbformat": 4,
 "nbformat_minor": 2
}
