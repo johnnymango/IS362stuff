{
 "cells": [
  {
   "cell_type": "markdown",
   "metadata": {},
   "source": [
    "# Youtube's Recommender System"
   ]
  },
  {
   "cell_type": "markdown",
   "metadata": {},
   "source": [
    "The system I'll be exploring is Youtube's recommender system - which recommends video content posted on the Youtube website.\n",
    "\n",
    "youtube.com"
   ]
  },
  {
   "cell_type": "code",
   "execution_count": null,
   "metadata": {
    "collapsed": true
   },
   "outputs": [],
   "source": []
  },
  {
   "cell_type": "markdown",
   "metadata": {},
   "source": [
    "## What are their key goals?\n",
    "\n",
    "Youtube has to be able to recommend video content from its enourmous library of millions of videos consumed by millions of users.  Google wants to tailor content specifically for \"Johnny\" vs \"Mary\".  It uses two primary methods to accomplish this task.  It uses collaborative filtering based on data collected from the user - like videos I have watched and how long I spend watching them - to generate a recommendation.  One of the major advantages Google has is that it can integrate alot of other data into the model that it has collected from me - like demographic and search information.  For example, I use Google services all of the time - Search, GMAIL, Google Drive, Chrome. etc.  My interaction with these services generates data that is used to train the model.  In combination with the collaborative filtering model, Youtube is able to recommend video content that is highly specific for me.  I purposely use Google services to \"feed the machine\" so that searches,contents and links presented to me within the Google ecoysystem is very relevant.\n",
    "\n",
    "The other model which feeds the recommender system is Google's Ranking mechanism.  It scores the recommended content and presents it in a ranked order - send the videos I am most likely to like to the top of the list.\n",
    "\n",
    "Source:\n",
    "https://www.infoq.com/news/2016/09/How-YouTube-Recommendation-Works\n"
   ]
  },
  {
   "cell_type": "markdown",
   "metadata": {},
   "source": [
    "## Who are the target users?\n",
    "\n",
    "Everyone.  \n",
    "\n",
    "Youtube's content library probably spans almost every conceivable topic and interest.  I personally use Youtube often for music videos and to review educational content for school; during the summer movie season, I often watch movie trailers and video game trailers after the release of popular titles.  However, because its video content is broad-ranging, it can be used by mechanics to learn about custom autoparts, or hobbyists building model trains, or children watching cartoons, or pranksters showing of their tricks.  The 'target user' seems to be an endless combination of interests across the planet.\n",
    "\n",
    "The magic trick performed by Youtube is building a profile of the user using the recommender model and the user's data (and finding similar users) to make it recommendations.  It has to sift through and include relevant data points to make accurate recommendations and present them specifically to me.  As my personal data points change over time (I spend alot more time looking at data science videos in May than in July), the algorithm has to incorporate this new data into the model.  Not only are Mary's recommendations different from mine, but my own recommendations are constantly being adjusted as new information is absorbed by the model.\n"
   ]
  },
  {
   "cell_type": "markdown",
   "metadata": {},
   "source": [
    "## How can you help them accomplish their goals?\n",
    "\n",
    "There is one main way I would change the Youtube site -- and that is to allow me to filter my recommendations based on the categories/themes Youtube has identified for me through its algorithm.  Because I have a wide range of interests that are both cyclical (repeating over the course of a year) and new interests as well as some standard recommendations that are always made, my home page is a mish-mash of all of these types of videos.  I've recently been looking at alot of Alien Convenant content in anticipation of the new movies release.  But this content is interspersed with music video content, data science content, political content, other entertainment content, along with my actual channel subscriiptions.  I tend to be purpose-oriented when I use Youtube and would prefer to see recommendations based on my purpose.  There are times when all I want and need to see is content specific to data science and pandas -- for example.  There are times where I need a youtube music playlist to take to the gym.  There are never moments when python and the gym ever coincide. My recommendations don't make this purpose-oriented distinction -- and so my home page has Andrew Ng's Stanford Machine Learning course on the same list as Miami's electronic music festival.  I have limited ability to filter -- or at least navigate recommendations along dimensions of my choosing.\n"
   ]
  }
 ],
 "metadata": {
  "kernelspec": {
   "display_name": "Python 3",
   "language": "python",
   "name": "python3"
  },
  "language_info": {
   "codemirror_mode": {
    "name": "ipython",
    "version": 3
   },
   "file_extension": ".py",
   "mimetype": "text/x-python",
   "name": "python",
   "nbconvert_exporter": "python",
   "pygments_lexer": "ipython3",
   "version": "3.6.0"
  }
 },
 "nbformat": 4,
 "nbformat_minor": 2
}
